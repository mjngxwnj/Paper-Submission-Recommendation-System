{
 "cells": [
  {
   "cell_type": "markdown",
   "id": "a19aaf71",
   "metadata": {},
   "source": [
    "# Thiết lập config"
   ]
  },
  {
   "cell_type": "code",
   "execution_count": 9,
   "id": "8a895e92",
   "metadata": {},
   "outputs": [],
   "source": [
    "import pyalex\n",
    "from pyalex import config\n",
    "from itertools import chain\n",
    "import json\n",
    "import os\n",
    "import time\n",
    "pyalex.config.email = \"thuattruongminh@gmail.com\"\n",
    "\n",
    "config.max_retries = 3\n",
    "config.retry_backoff_factor = 0.1\n",
    "config.retry_http_codes = [429, 500, 503]\n",
    "\n",
    "OUTPUT_FILE = \"openalex_computer_science.json\"\n",
    "FIELD = \"Computer Science\"\n",
    "FIELD_ID = \"C41008148\"\n",
    "DATA_NEED = [\"id\",\"title\",\"publication_year\",\"type\",\"language\",\"doi\",\n",
    "             \"concepts\",\"authorships\",\"locations\",\"primary_location\",\"cited_by_count\",\n",
    "             \"primary_topic\",\"keywords\"]\n",
    "MAX_RESULTS = 50\n",
    "DELAY = 0.2\n",
    "CHECKPOINT_FILE = \"checkpoint.txt\""
   ]
  },
  {
   "cell_type": "markdown",
   "id": "d82ddae3",
   "metadata": {},
   "source": [
    "# Load and Save CheckPoint"
   ]
  },
  {
   "cell_type": "code",
   "execution_count": 39,
   "id": "caffd0ad",
   "metadata": {},
   "outputs": [],
   "source": [
    "def load_checkpoint():\n",
    "    if os.path.exists(CHECKPOINT_FILE):\n",
    "        with open(CHECKPOINT_FILE) as f:\n",
    "            return f.read().strip() or \"*\"\n",
    "    return \"*\"\n",
    "\n",
    "def save_checkpoint(cursor):\n",
    "    with open(CHECKPOINT_FILE, \"w\") as f:\n",
    "        f.write(cursor)"
   ]
  },
  {
   "cell_type": "markdown",
   "id": "3bb9e633",
   "metadata": {},
   "source": [
    "# Crawling data"
   ]
  },
  {
   "cell_type": "code",
   "execution_count": 54,
   "id": "81b00c35",
   "metadata": {},
   "outputs": [],
   "source": [
    "def crawl():\n",
    "    cursor = load_checkpoint()\n",
    "    print(f\"Crawling OpenAlex for field: {FIELD}\")\n",
    "    works = pyalex.Works().filter(concepts = {\"id\":FIELD_ID}).select(DATA_NEED).get(per_page = 2,cursor = cursor)\n",
    "    output_dir = os.path.dirname(OUTPUT_FILE)\n",
    "    if output_dir:\n",
    "        os.makedirs(output_dir, exist_ok=True)\n",
    "\n",
    "    count_result = 0\n",
    "    result = []\n",
    "    with open(OUTPUT_FILE, \"a\", encoding=\"utf-8\") as f_out:\n",
    "        for record in works:\n",
    "            print(\"Crawl record: \",record[\"id\"])\n",
    "            result.append(record)\n",
    "            count_result += 1\n",
    "            if (count_result >= MAX_RESULTS):\n",
    "                break\n",
    "            if (count_result % 100 == 0):\n",
    "                print(f\"Crawled {count_result} records ...\")\n",
    "            save_checkpoint(works.meta[\"next_cursor\"])\n",
    "            time.sleep(DELAY)\n",
    "    with open(OUTPUT_FILE,\"a\",encoding = \"utf-8\") as f_out:\n",
    "        json.dump(result,f_out,ensure_ascii=False,indent = 4)\n",
    "    print(f\"Saved {count_result} records into {OUTPUT_FILE}\")\n",
    "    \n"
   ]
  },
  {
   "cell_type": "code",
   "execution_count": 58,
   "id": "6eee04c5",
   "metadata": {},
   "outputs": [
    {
     "name": "stdout",
     "output_type": "stream",
     "text": [
      "Crawling OpenAlex for field: Computer Science\n",
      "Crawl record:  https://openalex.org/W2107277218\n",
      "Crawl record:  https://openalex.org/W1979290264\n",
      "Saved 2 records into openalex_computer_science.json\n"
     ]
    }
   ],
   "source": [
    "if __name__ == \"__main__\":\n",
    "    crawl()"
   ]
  },
  {
   "cell_type": "code",
   "execution_count": null,
   "id": "4d77c0ad",
   "metadata": {},
   "outputs": [],
   "source": []
  }
 ],
 "metadata": {
  "kernelspec": {
   "display_name": "Python 3",
   "language": "python",
   "name": "python3"
  },
  "language_info": {
   "codemirror_mode": {
    "name": "ipython",
    "version": 3
   },
   "file_extension": ".py",
   "mimetype": "text/x-python",
   "name": "python",
   "nbconvert_exporter": "python",
   "pygments_lexer": "ipython3",
   "version": "3.12.6"
  }
 },
 "nbformat": 4,
 "nbformat_minor": 5
}
