{
 "cells": [
  {
   "cell_type": "markdown",
   "id": "e07d3fd0",
   "metadata": {},
   "source": [
    "https://docs.openalex.org/how-to-use-the-api/get-lists-of-entities/select-fields?utm_source=chatgpt.com"
   ]
  },
  {
   "cell_type": "markdown",
   "id": "e9cf29cb",
   "metadata": {},
   "source": [
    "# Cấu hình Postgres"
   ]
  },
  {
   "cell_type": "code",
   "execution_count": 15,
   "id": "f74a6460",
   "metadata": {},
   "outputs": [],
   "source": [
    "DB_CONFIG = {\n",
    "    \"dbname\":\"openalexdb\",\n",
    "    \"user\":\"postgres\",\n",
    "    \"password\":\"123\",\n",
    "    \"host\":\"localhost\",\n",
    "    \"port\":\"5432\"\n",
    "}   "
   ]
  },
  {
   "cell_type": "markdown",
   "id": "13b2cda5",
   "metadata": {},
   "source": [
    "# Lấy dữ liệu về Works"
   ]
  },
  {
   "cell_type": "code",
   "execution_count": 28,
   "id": "08ca3da9",
   "metadata": {},
   "outputs": [],
   "source": [
    "from pyalex import Works,Authors,Institutions,config\n",
    "import psycopg2\n",
    "from psycopg2.extras import execute_values\n",
    "config.email = \"thuattruongminh@gmail.com\""
   ]
  },
  {
   "cell_type": "markdown",
   "id": "5b77cbb2",
   "metadata": {},
   "source": [
    "1) Tạo bảng"
   ]
  },
  {
   "cell_type": "code",
   "execution_count": 17,
   "id": "c063ed5b",
   "metadata": {},
   "outputs": [],
   "source": [
    "def create_table():\n",
    "    connect = psycopg2.connect(**DB_CONFIG)\n",
    "    cursor = connect.cursor()\n",
    "    cursor.execute(\"\"\"\n",
    "        CREATE TABLE IF NOT EXISTS works(\n",
    "            id TEXT PRIMARY KEY,\n",
    "            title TEXT,\n",
    "            authorships TEXT,\n",
    "            concepts TEXT,\n",
    "            publication_date TEXT,\n",
    "            doi TEXT\n",
    "        )\n",
    "        \"\"\")\n",
    "    connect.commit()\n",
    "    cursor.close()\n",
    "    connect.close()"
   ]
  },
  {
   "cell_type": "markdown",
   "id": "eb0c8d09",
   "metadata": {},
   "source": [
    "2. Lưu vào postgres"
   ]
  },
  {
   "cell_type": "code",
   "execution_count": 39,
   "id": "7862c48f",
   "metadata": {},
   "outputs": [],
   "source": [
    "def save_to_postgres(records):\n",
    "    connect = psycopg2.connect(**DB_CONFIG)\n",
    "    cursor = connect.cursor()\n",
    "    rows = []\n",
    "    for r in records:\n",
    "        authorships = \", \".join([a[\"author\"][\"display_name\"] for a in r.get(\"authorships\", [])]) or None\n",
    "        concepts = \", \".join([c[\"display_name\"] for c in r.get(\"concepts\", [])]) or None\n",
    "        rows.append((\n",
    "            r.get(\"id\"),\n",
    "            r.get(\"title\"),\n",
    "            authorships,\n",
    "            concepts,\n",
    "            r.get(\"publication_date\"),\n",
    "            r.get(\"doi\")\n",
    "        ))\n",
    "    execute_values(cursor,\"\"\"\n",
    "                   INSERT INTO works(id,title,authorships,concepts,publication_date,doi)\n",
    "                   VALUES %s\n",
    "                   ON CONFLICT (id) DO NOTHING\n",
    "                   \"\"\",rows)\n",
    "    connect.commit()\n",
    "    cursor.close()\n",
    "    connect.close()\n",
    "    "
   ]
  },
  {
   "cell_type": "markdown",
   "id": "289455f7",
   "metadata": {},
   "source": [
    "3. Call API"
   ]
  },
  {
   "cell_type": "code",
   "execution_count": 37,
   "id": "f4f618d8",
   "metadata": {},
   "outputs": [],
   "source": [
    "def crawl_and_save(pages = 2):\n",
    "    fields = \"id,title,authorships,concepts,publication_date,doi\"\n",
    "    for page in range(1,pages+1):\n",
    "        print(f\"Crawling page {page}...\")\n",
    "        data = Works().filter(type = \"article\").select(fields).get(per_page = 200,page = page)\n",
    "        save_to_postgres(data)\n",
    "    print(\"Done!\")"
   ]
  },
  {
   "cell_type": "code",
   "execution_count": 40,
   "id": "e8d58bf9",
   "metadata": {},
   "outputs": [
    {
     "name": "stdout",
     "output_type": "stream",
     "text": [
      "Crawling page 1...\n",
      "Crawling page 2...\n",
      "Done!\n"
     ]
    }
   ],
   "source": [
    "if __name__ == \"__main__\":\n",
    "    create_table()\n",
    "    crawl_and_save(pages = 2)"
   ]
  }
 ],
 "metadata": {
  "kernelspec": {
   "display_name": "Python 3",
   "language": "python",
   "name": "python3"
  },
  "language_info": {
   "codemirror_mode": {
    "name": "ipython",
    "version": 3
   },
   "file_extension": ".py",
   "mimetype": "text/x-python",
   "name": "python",
   "nbconvert_exporter": "python",
   "pygments_lexer": "ipython3",
   "version": "3.12.6"
  }
 },
 "nbformat": 4,
 "nbformat_minor": 5
}
